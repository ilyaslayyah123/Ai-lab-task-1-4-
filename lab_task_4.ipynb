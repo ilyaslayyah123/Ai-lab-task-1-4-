{
 "cells": [
  {
   "cell_type": "markdown",
   "metadata": {},
   "source": [
    "luhan algorithm"
   ]
  },
  {
   "cell_type": "code",
   "execution_count": null,
   "metadata": {},
   "outputs": [],
   "source": [
    "card_number=[4,7,8,2,7,8,0,0,0,1,6,1,6,4,0,1]\n",
    "limit=16\n",
    "print(card_number)"
   ]
  },
  {
   "cell_type": "code",
   "execution_count": null,
   "metadata": {},
   "outputs": [],
   "source": [
    "x=card_number.pop()\n",
    "print(x)"
   ]
  },
  {
   "cell_type": "code",
   "execution_count": null,
   "metadata": {},
   "outputs": [],
   "source": [
    "card_number.reverse()\n",
    "print(card_number)"
   ]
  },
  {
   "cell_type": "code",
   "execution_count": null,
   "metadata": {},
   "outputs": [],
   "source": [
    "for i in range(len(card_number)):\n",
    "    if i%2==0:\n",
    "        card_number[i]*=2\n",
    "    if card_number[i]>9:\n",
    "        card_number[i]-=9\n",
    "print(card_number)"
   ]
  },
  {
   "cell_type": "code",
   "execution_count": null,
   "metadata": {},
   "outputs": [],
   "source": [
    "for i in range(len(card_number)):\n",
    "    x+=card_number[i]\n",
    "if x%10==0:\n",
    "    print(\"valid\")\n",
    "else:\n",
    "    print(\"invalid\")"
   ]
  },
  {
   "cell_type": "markdown",
   "metadata": {},
   "source": [
    "task 2:Remove Punctuations"
   ]
  },
  {
   "cell_type": "code",
   "execution_count": null,
   "metadata": {},
   "outputs": [],
   "source": [
    "import string\n",
    "def remove_punction():\n",
    "    s=input(\"enter a string: \")\n",
    "    cleand_input=\"\"\n",
    "    for char in s:\n",
    "        if char not in string.punctuation:\n",
    "            cleand_input+=char\n",
    "    print(cleand_input)\n",
    "remove_punction()\n"
   ]
  },
  {
   "cell_type": "markdown",
   "metadata": {},
   "source": [
    "task 3 Sort text (word) in Alphabetical Order"
   ]
  },
  {
   "cell_type": "code",
   "execution_count": null,
   "metadata": {},
   "outputs": [],
   "source": [
    "def sort(word):\n",
    "    c=len(word)\n",
    "    for  i in range(c -1):\n",
    "        for j in range(c-i-i):\n",
    "            if word[j] > word[j+1]:\n",
    "                word[j],word[j+1]=word[j+1],word[j]\n",
    "    return word\n",
    "x=input(str(\"enter a string: \"))\n",
    "word=x.split()\n",
    "sorted_word=sort(word)\n",
    "print(\"\".join (sorted_word))"
   ]
  }
 ],
 "metadata": {
  "kernelspec": {
   "display_name": "base",
   "language": "python",
   "name": "python3"
  },
  "language_info": {
   "codemirror_mode": {
    "name": "ipython",
    "version": 3
   },
   "file_extension": ".py",
   "mimetype": "text/x-python",
   "name": "python",
   "nbconvert_exporter": "python",
   "pygments_lexer": "ipython3",
   "version": "3.11.5"
  }
 },
 "nbformat": 4,
 "nbformat_minor": 2
}
